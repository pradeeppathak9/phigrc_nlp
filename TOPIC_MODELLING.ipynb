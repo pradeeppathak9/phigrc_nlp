{
 "cells": [
  {
   "cell_type": "markdown",
   "metadata": {},
   "source": [
    "#### Topic Modelling "
   ]
  },
  {
   "cell_type": "code",
   "execution_count": 1,
   "metadata": {},
   "outputs": [
    {
     "data": {
      "text/plain": [
       "True"
      ]
     },
     "execution_count": 1,
     "metadata": {},
     "output_type": "execute_result"
    }
   ],
   "source": [
    "import pandas as pd\n",
    "import numpy as np\n",
    "import re\n",
    "from tqdm import tqdm\n",
    "import random\n",
    "from pprint import pprint\n",
    "\n",
    "import gensim\n",
    "from gensim import corpora, models\n",
    "from gensim.models import LdaModel, LdaMulticore\n",
    "from gensim.utils import simple_preprocess\n",
    "from gensim.parsing.preprocessing import STOPWORDS\n",
    "from nltk.stem import WordNetLemmatizer, SnowballStemmer\n",
    "from nltk.stem.porter import *\n",
    "import nltk\n",
    "nltk.download('wordnet', quiet=True)"
   ]
  },
  {
   "cell_type": "code",
   "execution_count": 2,
   "metadata": {},
   "outputs": [
    {
     "data": {
      "text/plain": [
       "(4911, 2)"
      ]
     },
     "execution_count": 2,
     "metadata": {},
     "output_type": "execute_result"
    }
   ],
   "source": [
    "corpus = pd.read_csv('corpus.csv')\n",
    "corpus = corpus.drop_duplicates()\n",
    "corpus.shape"
   ]
  },
  {
   "cell_type": "code",
   "execution_count": 3,
   "metadata": {},
   "outputs": [
    {
     "data": {
      "text/html": [
       "<div>\n",
       "<style scoped>\n",
       "    .dataframe tbody tr th:only-of-type {\n",
       "        vertical-align: middle;\n",
       "    }\n",
       "\n",
       "    .dataframe tbody tr th {\n",
       "        vertical-align: top;\n",
       "    }\n",
       "\n",
       "    .dataframe thead th {\n",
       "        text-align: right;\n",
       "    }\n",
       "</style>\n",
       "<table border=\"1\" class=\"dataframe\">\n",
       "  <thead>\n",
       "    <tr style=\"text-align: right;\">\n",
       "      <th></th>\n",
       "      <th>Section_ID</th>\n",
       "      <th>Section_Text</th>\n",
       "    </tr>\n",
       "  </thead>\n",
       "  <tbody>\n",
       "    <tr>\n",
       "      <th>0</th>\n",
       "      <td>Cite-1</td>\n",
       "      <td>authority. this part is issued pursuant to 12 ...</td>\n",
       "    </tr>\n",
       "    <tr>\n",
       "      <th>1</th>\n",
       "      <td>Cite-2</td>\n",
       "      <td>purpose this part prescribes standards under w...</td>\n",
       "    </tr>\n",
       "    <tr>\n",
       "      <th>2</th>\n",
       "      <td>Cite-3</td>\n",
       "      <td>scope. the standards set forth in this part ap...</td>\n",
       "    </tr>\n",
       "    <tr>\n",
       "      <th>3</th>\n",
       "      <td>Cite-4</td>\n",
       "      <td>reservation of authority. the occ may determin...</td>\n",
       "    </tr>\n",
       "    <tr>\n",
       "      <th>4</th>\n",
       "      <td>Cite-43</td>\n",
       "      <td>obligation issued by an obligor not possessing...</td>\n",
       "    </tr>\n",
       "  </tbody>\n",
       "</table>\n",
       "</div>"
      ],
      "text/plain": [
       "  Section_ID                                       Section_Text\n",
       "0     Cite-1  authority. this part is issued pursuant to 12 ...\n",
       "1     Cite-2  purpose this part prescribes standards under w...\n",
       "2     Cite-3  scope. the standards set forth in this part ap...\n",
       "3     Cite-4  reservation of authority. the occ may determin...\n",
       "4    Cite-43  obligation issued by an obligor not possessing..."
      ]
     },
     "execution_count": 3,
     "metadata": {},
     "output_type": "execute_result"
    }
   ],
   "source": [
    "corpus.head()"
   ]
  },
  {
   "cell_type": "code",
   "execution_count": null,
   "metadata": {},
   "outputs": [],
   "source": []
  },
  {
   "cell_type": "markdown",
   "metadata": {},
   "source": [
    "#### cleaning and lemmatizing docs"
   ]
  },
  {
   "cell_type": "code",
   "execution_count": 4,
   "metadata": {},
   "outputs": [],
   "source": [
    "stemmer = SnowballStemmer(\"english\")"
   ]
  },
  {
   "cell_type": "code",
   "execution_count": 5,
   "metadata": {},
   "outputs": [],
   "source": [
    "def lemmatize_stemming(text):\n",
    "    return stemmer.stem(WordNetLemmatizer().lemmatize(text, pos='v'))\n",
    "\n",
    "def preprocess(text):\n",
    "    result = []\n",
    "    for token in gensim.utils.simple_preprocess(text):\n",
    "        if token not in gensim.parsing.preprocessing.STOPWORDS and len(token) > 3:\n",
    "            result.append(lemmatize_stemming(token))\n",
    "    return result\n",
    "\n",
    "def clean_text(text):\n",
    "    text =  re.sub(r\"[^a-z0-9]\", \" \", text.lower())   \n",
    "    return text"
   ]
  },
  {
   "cell_type": "code",
   "execution_count": 6,
   "metadata": {},
   "outputs": [],
   "source": [
    "preprocessed = corpus.Section_Text.apply(clean_text).apply(preprocess)"
   ]
  },
  {
   "cell_type": "code",
   "execution_count": 7,
   "metadata": {},
   "outputs": [
    {
     "data": {
      "text/plain": [
       "0                    [author, issu, pursuant, seventh]\n",
       "1    [purpos, prescrib, standard, nation, bank, pur...\n",
       "2    [scope, standard, forth, appli, nation, bank, ...\n",
       "3    [reserv, author, determin, case, case, basi, n...\n",
       "4    [oblig, issu, obligor, possess, general, power...\n",
       "Name: Section_Text, dtype: object"
      ]
     },
     "execution_count": 7,
     "metadata": {},
     "output_type": "execute_result"
    }
   ],
   "source": [
    "preprocessed[:5]"
   ]
  },
  {
   "cell_type": "code",
   "execution_count": 8,
   "metadata": {},
   "outputs": [
    {
     "data": {
      "text/plain": [
       "0    authority. this part is issued pursuant to 12 ...\n",
       "1    purpose this part prescribes standards under w...\n",
       "2    scope. the standards set forth in this part ap...\n",
       "3    reservation of authority. the occ may determin...\n",
       "4    obligation issued by an obligor not possessing...\n",
       "Name: Section_Text, dtype: object"
      ]
     },
     "execution_count": 8,
     "metadata": {},
     "output_type": "execute_result"
    }
   ],
   "source": [
    "corpus.Section_Text[:5]"
   ]
  },
  {
   "cell_type": "code",
   "execution_count": null,
   "metadata": {},
   "outputs": [],
   "source": []
  },
  {
   "cell_type": "markdown",
   "metadata": {},
   "source": [
    "#### Creating bow corpus"
   ]
  },
  {
   "cell_type": "code",
   "execution_count": 9,
   "metadata": {},
   "outputs": [],
   "source": [
    "dictionary = gensim.corpora.Dictionary(preprocessed)"
   ]
  },
  {
   "cell_type": "code",
   "execution_count": 10,
   "metadata": {},
   "outputs": [],
   "source": [
    "dictionary.filter_extremes(no_below=15, no_above=0.5, keep_n=100000)"
   ]
  },
  {
   "cell_type": "code",
   "execution_count": 11,
   "metadata": {
    "scrolled": false
   },
   "outputs": [],
   "source": [
    "# creating bag-of-word corpus\n",
    "bow_corpus = [dictionary.doc2bow(doc) for doc in preprocessed]"
   ]
  },
  {
   "cell_type": "code",
   "execution_count": null,
   "metadata": {},
   "outputs": [],
   "source": []
  },
  {
   "cell_type": "code",
   "execution_count": 12,
   "metadata": {
    "scrolled": true
   },
   "outputs": [
    {
     "name": "stdout",
     "output_type": "stream",
     "text": [
      "Word 1 (\"issu\"),  Count - 2.\n",
      "Word 4 (\"bank\"),  Count - 7.\n",
      "Word 6 (\"contain\"),  Count - 1.\n",
      "Word 9 (\"nation\"),  Count - 5.\n",
      "Word 22 (\"appli\"),  Count - 5.\n",
      "Word 27 (\"feder\"),  Count - 5.\n",
      "Word 36 (\"state\"),  Count - 3.\n",
      "Word 38 (\"subject\"),  Count - 1.\n",
      "Word 49 (\"determin\"),  Count - 2.\n",
      "Word 56 (\"paragraph\"),  Count - 1.\n",
      "Word 63 (\"section\"),  Count - 6.\n",
      "Word 67 (\"general\"),  Count - 2.\n",
      "Word 76 (\"requir\"),  Count - 3.\n",
      "Word 85 (\"applic\"),  Count - 9.\n",
      "Word 91 (\"combin\"),  Count - 1.\n",
      "Word 94 (\"credit\"),  Count - 1.\n",
      "Word 104 (\"follow\"),  Count - 1.\n",
      "Word 121 (\"provis\"),  Count - 1.\n",
      "Word 122 (\"public\"),  Count - 4.\n",
      "Word 128 (\"statutori\"),  Count - 1.\n",
      "Word 156 (\"shall\"),  Count - 1.\n",
      "Word 193 (\"institut\"),  Count - 1.\n",
      "Word 214 (\"rule\"),  Count - 1.\n",
      "Word 236 (\"organ\"),  Count - 2.\n",
      "Word 240 (\"busi\"),  Count - 1.\n",
      "Word 255 (\"relat\"),  Count - 1.\n",
      "Word 271 (\"cover\"),  Count - 1.\n",
      "Word 274 (\"compani\"),  Count - 1.\n",
      "Word 291 (\"legal\"),  Count - 2.\n",
      "Word 297 (\"separ\"),  Count - 1.\n",
      "Word 305 (\"conclud\"),  Count - 2.\n",
      "Word 314 (\"treat\"),  Count - 1.\n",
      "Word 326 (\"notic\"),  Count - 4.\n",
      "Word 339 (\"present\"),  Count - 2.\n",
      "Word 344 (\"transact\"),  Count - 1.\n",
      "Word 382 (\"result\"),  Count - 1.\n",
      "Word 384 (\"associ\"),  Count - 6.\n",
      "Word 389 (\"save\"),  Count - 6.\n",
      "Word 405 (\"part\"),  Count - 1.\n",
      "Word 419 (\"statut\"),  Count - 2.\n",
      "Word 453 (\"engag\"),  Count - 1.\n",
      "Word 460 (\"merger\"),  Count - 1.\n",
      "Word 537 (\"trust\"),  Count - 1.\n",
      "Word 631 (\"polici\"),  Count - 2.\n",
      "Word 668 (\"except\"),  Count - 1.\n",
      "Word 696 (\"supervisori\"),  Count - 2.\n",
      "Word 734 (\"process\"),  Count - 1.\n",
      "Word 773 (\"union\"),  Count - 1.\n",
      "Word 878 (\"interim\"),  Count - 6.\n",
      "Word 963 (\"signific\"),  Count - 2.\n",
      "Word 1200 (\"comment\"),  Count - 1.\n",
      "Word 1320 (\"novel\"),  Count - 2.\n"
     ]
    }
   ],
   "source": [
    "# bow document example\n",
    "index = 4310\n",
    "ex = bow_corpus[index]\n",
    "for i in range(len(ex)):\n",
    "    print(\"Word {} (\\\"{}\\\"),  Count - {}.\".format(ex[i][0], dictionary[ex[i][0]], ex[i][1]))"
   ]
  },
  {
   "cell_type": "code",
   "execution_count": null,
   "metadata": {},
   "outputs": [],
   "source": []
  },
  {
   "cell_type": "markdown",
   "metadata": {},
   "source": [
    "#### creaitng TF-IDF corpus"
   ]
  },
  {
   "cell_type": "code",
   "execution_count": 13,
   "metadata": {},
   "outputs": [],
   "source": [
    "tfidf = models.TfidfModel(bow_corpus)"
   ]
  },
  {
   "cell_type": "code",
   "execution_count": 15,
   "metadata": {},
   "outputs": [],
   "source": [
    "tfidf_corpus = tfidf[bow_corpus]"
   ]
  },
  {
   "cell_type": "code",
   "execution_count": 17,
   "metadata": {
    "scrolled": true
   },
   "outputs": [
    {
     "name": "stdout",
     "output_type": "stream",
     "text": [
      "Word 1 (\"issu\"),  TF-IDF - 0.08045598595140308.\n",
      "Word 4 (\"bank\"),  TF-IDF - 0.09896513502771173.\n",
      "Word 6 (\"contain\"),  TF-IDF - 0.05877374788891292.\n",
      "Word 9 (\"nation\"),  TF-IDF - 0.13564750133198109.\n",
      "Word 22 (\"appli\"),  TF-IDF - 0.19975940808941667.\n",
      "Word 27 (\"feder\"),  TF-IDF - 0.10374349398314156.\n",
      "Word 36 (\"state\"),  TF-IDF - 0.10351053252792156.\n",
      "Word 38 (\"subject\"),  TF-IDF - 0.03823172690952112.\n",
      "Word 49 (\"determin\"),  TF-IDF - 0.06782336468808096.\n",
      "Word 56 (\"paragraph\"),  TF-IDF - 0.0276611726337707.\n",
      "Word 63 (\"section\"),  TF-IDF - 0.10869137589313682.\n",
      "Word 67 (\"general\"),  TF-IDF - 0.0785855822653381.\n",
      "Word 76 (\"requir\"),  TF-IDF - 0.06343088439992764.\n",
      "Word 85 (\"applic\"),  TF-IDF - 0.2779455339514064.\n",
      "Word 91 (\"combin\"),  TF-IDF - 0.0779753402236377.\n",
      "Word 94 (\"credit\"),  TF-IDF - 0.03482970439821828.\n",
      "Word 104 (\"follow\"),  TF-IDF - 0.03730462288261047.\n",
      "Word 121 (\"provis\"),  TF-IDF - 0.04982873762762001.\n",
      "Word 122 (\"public\"),  TF-IDF - 0.19851449852946293.\n",
      "Word 128 (\"statutori\"),  TF-IDF - 0.09081652819818375.\n",
      "Word 156 (\"shall\"),  TF-IDF - 0.026751642802779432.\n",
      "Word 193 (\"institut\"),  TF-IDF - 0.03221530029032839.\n",
      "Word 214 (\"rule\"),  TF-IDF - 0.05065014650992854.\n",
      "Word 236 (\"organ\"),  TF-IDF - 0.11208602557667292.\n",
      "Word 240 (\"busi\"),  TF-IDF - 0.04276316505928335.\n",
      "Word 255 (\"relat\"),  TF-IDF - 0.04814301342534641.\n",
      "Word 271 (\"cover\"),  TF-IDF - 0.04786797230138649.\n",
      "Word 274 (\"compani\"),  TF-IDF - 0.046043189191121395.\n",
      "Word 291 (\"legal\"),  TF-IDF - 0.1280013799551643.\n",
      "Word 297 (\"separ\"),  TF-IDF - 0.06606598377077982.\n",
      "Word 305 (\"conclud\"),  TF-IDF - 0.18083662685517451.\n",
      "Word 314 (\"treat\"),  TF-IDF - 0.075057071384233.\n",
      "Word 326 (\"notic\"),  TF-IDF - 0.1731894805314762.\n",
      "Word 339 (\"present\"),  TF-IDF - 0.138323649035197.\n",
      "Word 344 (\"transact\"),  TF-IDF - 0.037844682986903425.\n",
      "Word 382 (\"result\"),  TF-IDF - 0.05497004256954395.\n",
      "Word 384 (\"associ\"),  TF-IDF - 0.15386958866041617.\n",
      "Word 389 (\"save\"),  TF-IDF - 0.16268166441918278.\n",
      "Word 405 (\"part\"),  TF-IDF - 0.09249507041432177.\n",
      "Word 419 (\"statut\"),  TF-IDF - 0.1519652772678492.\n",
      "Word 453 (\"engag\"),  TF-IDF - 0.05754620977666402.\n",
      "Word 460 (\"merger\"),  TF-IDF - 0.08494592516980555.\n",
      "Word 537 (\"trust\"),  TF-IDF - 0.07012352552760363.\n",
      "Word 631 (\"polici\"),  TF-IDF - 0.11738949187307364.\n",
      "Word 668 (\"except\"),  TF-IDF - 0.07069489772860214.\n",
      "Word 696 (\"supervisori\"),  TF-IDF - 0.1222501444742231.\n",
      "Word 734 (\"process\"),  TF-IDF - 0.061394474527378416.\n",
      "Word 773 (\"union\"),  TF-IDF - 0.08890133736793236.\n",
      "Word 878 (\"interim\"),  TF-IDF - 0.6153836053487217.\n",
      "Word 963 (\"signific\"),  TF-IDF - 0.1290471155811411.\n",
      "Word 1200 (\"comment\"),  TF-IDF - 0.08586287937119272.\n",
      "Word 1320 (\"novel\"),  TF-IDF - 0.22829954818981402.\n"
     ]
    }
   ],
   "source": [
    "ex = tfidf_corpus[index]\n",
    "for i in range(len(ex)):\n",
    "    print(\"Word {} (\\\"{}\\\"),  TF-IDF - {}.\".format(ex[i][0], dictionary[ex[i][0]], ex[i][1]))"
   ]
  },
  {
   "cell_type": "code",
   "execution_count": null,
   "metadata": {},
   "outputs": [],
   "source": []
  },
  {
   "cell_type": "markdown",
   "metadata": {},
   "source": [
    "#### Topic Modelling using BOW  "
   ]
  },
  {
   "cell_type": "code",
   "execution_count": 18,
   "metadata": {},
   "outputs": [],
   "source": [
    "lda_bow = LdaMulticore(bow_corpus, num_topics=20, id2word=dictionary, passes=2, workers=16)"
   ]
  },
  {
   "cell_type": "code",
   "execution_count": 19,
   "metadata": {
    "scrolled": true
   },
   "outputs": [
    {
     "name": "stdout",
     "output_type": "stream",
     "text": [
      "Topic: 0 \n",
      "Words: 0.024*\"bank\" + 0.016*\"section\" + 0.016*\"paragraph\" + 0.015*\"requir\" + 0.014*\"institut\" + 0.014*\"associ\" + 0.012*\"exposur\" + 0.012*\"save\" + 0.012*\"notic\" + 0.012*\"provid\"\n",
      "\n",
      "Topic: 1 \n",
      "Words: 0.027*\"feder\" + 0.026*\"bank\" + 0.020*\"associ\" + 0.015*\"institut\" + 0.015*\"requir\" + 0.015*\"nation\" + 0.014*\"board\" + 0.014*\"section\" + 0.013*\"save\" + 0.013*\"regul\"\n",
      "\n",
      "Topic: 2 \n",
      "Words: 0.022*\"insur\" + 0.021*\"save\" + 0.021*\"bank\" + 0.020*\"associ\" + 0.018*\"agreement\" + 0.014*\"section\" + 0.013*\"paragraph\" + 0.013*\"secur\" + 0.013*\"swap\" + 0.012*\"cover\"\n",
      "\n",
      "Topic: 3 \n",
      "Words: 0.024*\"institut\" + 0.024*\"section\" + 0.023*\"regul\" + 0.022*\"board\" + 0.020*\"transact\" + 0.019*\"requir\" + 0.016*\"bank\" + 0.016*\"risk\" + 0.015*\"paragraph\" + 0.015*\"securit\"\n",
      "\n",
      "Topic: 4 \n",
      "Words: 0.044*\"loan\" + 0.015*\"properti\" + 0.014*\"secur\" + 0.013*\"applic\" + 0.011*\"institut\" + 0.011*\"mean\" + 0.010*\"section\" + 0.010*\"includ\" + 0.009*\"shall\" + 0.009*\"real\"\n",
      "\n",
      "Topic: 5 \n",
      "Words: 0.040*\"institut\" + 0.025*\"capit\" + 0.021*\"requir\" + 0.020*\"regul\" + 0.019*\"board\" + 0.018*\"exposur\" + 0.018*\"credit\" + 0.016*\"risk\" + 0.016*\"provid\" + 0.012*\"bank\"\n",
      "\n",
      "Topic: 6 \n",
      "Words: 0.046*\"bank\" + 0.020*\"state\" + 0.017*\"section\" + 0.016*\"foreign\" + 0.015*\"feder\" + 0.014*\"associ\" + 0.012*\"activ\" + 0.012*\"save\" + 0.011*\"applic\" + 0.011*\"nation\"\n",
      "\n",
      "Topic: 7 \n",
      "Words: 0.026*\"shall\" + 0.018*\"request\" + 0.016*\"section\" + 0.016*\"parti\" + 0.013*\"hear\" + 0.013*\"notic\" + 0.012*\"proceed\" + 0.012*\"file\" + 0.011*\"order\" + 0.011*\"person\"\n",
      "\n",
      "Topic: 8 \n",
      "Words: 0.041*\"bank\" + 0.025*\"board\" + 0.018*\"associ\" + 0.018*\"capit\" + 0.014*\"vote\" + 0.014*\"save\" + 0.013*\"reserv\" + 0.012*\"feder\" + 0.011*\"director\" + 0.011*\"regul\"\n",
      "\n",
      "Topic: 9 \n",
      "Words: 0.022*\"bank\" + 0.022*\"file\" + 0.020*\"applic\" + 0.019*\"state\" + 0.016*\"inform\" + 0.016*\"section\" + 0.015*\"requir\" + 0.014*\"feder\" + 0.013*\"agenc\" + 0.011*\"shall\"\n",
      "\n",
      "Topic: 10 \n",
      "Words: 0.032*\"bank\" + 0.024*\"credit\" + 0.020*\"account\" + 0.016*\"reserv\" + 0.014*\"section\" + 0.012*\"includ\" + 0.012*\"financi\" + 0.011*\"institut\" + 0.011*\"feder\" + 0.010*\"requir\"\n",
      "\n",
      "Topic: 11 \n",
      "Words: 0.052*\"bank\" + 0.048*\"associ\" + 0.047*\"save\" + 0.040*\"feder\" + 0.027*\"nation\" + 0.014*\"offic\" + 0.013*\"state\" + 0.011*\"section\" + 0.009*\"requir\" + 0.009*\"applic\"\n",
      "\n",
      "Topic: 12 \n",
      "Words: 0.048*\"associ\" + 0.043*\"save\" + 0.038*\"nation\" + 0.037*\"feder\" + 0.030*\"bank\" + 0.021*\"exposur\" + 0.018*\"credit\" + 0.016*\"calcul\" + 0.015*\"risk\" + 0.014*\"capit\"\n",
      "\n",
      "Topic: 13 \n",
      "Words: 0.074*\"exposur\" + 0.022*\"risk\" + 0.020*\"securit\" + 0.018*\"bank\" + 0.017*\"board\" + 0.017*\"credit\" + 0.016*\"nation\" + 0.015*\"retail\" + 0.015*\"feder\" + 0.015*\"save\"\n",
      "\n",
      "Topic: 14 \n",
      "Words: 0.074*\"bank\" + 0.017*\"feder\" + 0.017*\"invest\" + 0.014*\"nation\" + 0.013*\"credit\" + 0.011*\"loan\" + 0.010*\"account\" + 0.010*\"section\" + 0.009*\"provid\" + 0.009*\"secur\"\n",
      "\n",
      "Topic: 15 \n",
      "Words: 0.028*\"bank\" + 0.024*\"capit\" + 0.016*\"institut\" + 0.016*\"secur\" + 0.014*\"feder\" + 0.013*\"tier\" + 0.013*\"section\" + 0.013*\"board\" + 0.013*\"associ\" + 0.012*\"save\"\n",
      "\n",
      "Topic: 16 \n",
      "Words: 0.036*\"risk\" + 0.034*\"bank\" + 0.027*\"save\" + 0.024*\"feder\" + 0.023*\"associ\" + 0.020*\"nation\" + 0.018*\"board\" + 0.016*\"institut\" + 0.015*\"regul\" + 0.013*\"requir\"\n",
      "\n",
      "Topic: 17 \n",
      "Words: 0.029*\"feder\" + 0.027*\"bank\" + 0.022*\"section\" + 0.020*\"transact\" + 0.019*\"clear\" + 0.018*\"institut\" + 0.017*\"requir\" + 0.016*\"board\" + 0.016*\"regul\" + 0.014*\"member\"\n",
      "\n",
      "Topic: 18 \n",
      "Words: 0.019*\"credit\" + 0.017*\"section\" + 0.016*\"risk\" + 0.016*\"bank\" + 0.012*\"parti\" + 0.011*\"save\" + 0.011*\"exposur\" + 0.011*\"deposit\" + 0.010*\"feder\" + 0.009*\"posit\"\n",
      "\n",
      "Topic: 19 \n",
      "Words: 0.041*\"bank\" + 0.024*\"secur\" + 0.019*\"section\" + 0.019*\"exposur\" + 0.015*\"credit\" + 0.013*\"applic\" + 0.012*\"paragraph\" + 0.012*\"shall\" + 0.012*\"transact\" + 0.011*\"nation\"\n",
      "\n"
     ]
    }
   ],
   "source": [
    "for idx, topic in lda_bow.print_topics(-1):\n",
    "    print('Topic: {} \\nWords: {}\\n'.format(idx, topic))"
   ]
  },
  {
   "cell_type": "code",
   "execution_count": null,
   "metadata": {},
   "outputs": [],
   "source": []
  },
  {
   "cell_type": "code",
   "execution_count": null,
   "metadata": {},
   "outputs": [],
   "source": []
  },
  {
   "cell_type": "markdown",
   "metadata": {},
   "source": [
    "#### Topic Modelling using TF-IDF "
   ]
  },
  {
   "cell_type": "code",
   "execution_count": 20,
   "metadata": {},
   "outputs": [],
   "source": [
    "lda_tfidf = LdaMulticore(tfidf_corpus, num_topics=20, id2word=dictionary, passes=2, workers=16)"
   ]
  },
  {
   "cell_type": "code",
   "execution_count": 21,
   "metadata": {
    "scrolled": true
   },
   "outputs": [
    {
     "name": "stdout",
     "output_type": "stream",
     "text": [
      "Topic: 0 \n",
      "Word: 0.030*\"author\" + 0.009*\"bank\" + 0.008*\"board\" + 0.008*\"issu\" + 0.007*\"feder\" + 0.007*\"associ\" + 0.007*\"seventh\" + 0.007*\"save\" + 0.007*\"transact\" + 0.007*\"nation\"\n",
      "\n",
      "Topic: 1 \n",
      "Word: 0.008*\"associ\" + 0.008*\"institut\" + 0.008*\"bank\" + 0.007*\"save\" + 0.006*\"feder\" + 0.006*\"secur\" + 0.006*\"hear\" + 0.006*\"section\" + 0.006*\"nation\" + 0.005*\"dealer\"\n",
      "\n",
      "Topic: 2 \n",
      "Word: 0.011*\"bank\" + 0.010*\"secur\" + 0.009*\"foreign\" + 0.009*\"compani\" + 0.006*\"branch\" + 0.006*\"institut\" + 0.006*\"feder\" + 0.006*\"entiti\" + 0.006*\"exposur\" + 0.006*\"transact\"\n",
      "\n",
      "Topic: 3 \n",
      "Word: 0.013*\"secur\" + 0.012*\"exchang\" + 0.008*\"account\" + 0.007*\"invest\" + 0.007*\"bank\" + 0.007*\"mean\" + 0.007*\"section\" + 0.007*\"share\" + 0.007*\"applic\" + 0.006*\"requir\"\n",
      "\n",
      "Topic: 4 \n",
      "Word: 0.010*\"bank\" + 0.008*\"reserv\" + 0.007*\"item\" + 0.006*\"comptrol\" + 0.006*\"state\" + 0.006*\"fiduciari\" + 0.006*\"secur\" + 0.006*\"nation\" + 0.006*\"person\" + 0.005*\"account\"\n",
      "\n",
      "Topic: 5 \n",
      "Word: 0.009*\"board\" + 0.008*\"secur\" + 0.007*\"institut\" + 0.007*\"account\" + 0.006*\"bank\" + 0.006*\"agreement\" + 0.006*\"leas\" + 0.006*\"state\" + 0.006*\"regul\" + 0.006*\"supplement\"\n",
      "\n",
      "Topic: 6 \n",
      "Word: 0.009*\"bank\" + 0.009*\"save\" + 0.008*\"associ\" + 0.008*\"applic\" + 0.008*\"feder\" + 0.007*\"cover\" + 0.007*\"insur\" + 0.006*\"nation\" + 0.006*\"institut\" + 0.005*\"agreement\"\n",
      "\n",
      "Topic: 7 \n",
      "Word: 0.009*\"state\" + 0.008*\"bank\" + 0.007*\"exposur\" + 0.006*\"secur\" + 0.006*\"associ\" + 0.006*\"nation\" + 0.006*\"save\" + 0.006*\"institut\" + 0.006*\"activ\" + 0.006*\"invest\"\n",
      "\n",
      "Topic: 8 \n",
      "Word: 0.014*\"branch\" + 0.012*\"bank\" + 0.010*\"state\" + 0.008*\"feder\" + 0.007*\"shall\" + 0.007*\"notic\" + 0.007*\"reserv\" + 0.007*\"loan\" + 0.006*\"associ\" + 0.006*\"save\"\n",
      "\n",
      "Topic: 9 \n",
      "Word: 0.013*\"capit\" + 0.013*\"tier\" + 0.009*\"securit\" + 0.008*\"bank\" + 0.008*\"asset\" + 0.006*\"save\" + 0.006*\"account\" + 0.006*\"common\" + 0.006*\"entiti\" + 0.006*\"secur\"\n",
      "\n",
      "Topic: 10 \n",
      "Word: 0.016*\"save\" + 0.015*\"associ\" + 0.011*\"exposur\" + 0.011*\"bank\" + 0.011*\"feder\" + 0.011*\"nation\" + 0.010*\"risk\" + 0.008*\"weight\" + 0.007*\"invest\" + 0.007*\"capit\"\n",
      "\n",
      "Topic: 11 \n",
      "Word: 0.007*\"associ\" + 0.007*\"secur\" + 0.006*\"save\" + 0.006*\"file\" + 0.006*\"account\" + 0.006*\"amend\" + 0.006*\"credit\" + 0.006*\"bank\" + 0.006*\"institut\" + 0.006*\"feder\"\n",
      "\n",
      "Topic: 12 \n",
      "Word: 0.013*\"subpoena\" + 0.010*\"state\" + 0.008*\"parti\" + 0.008*\"plan\" + 0.007*\"motion\" + 0.007*\"board\" + 0.007*\"shall\" + 0.007*\"amend\" + 0.007*\"bank\" + 0.006*\"feder\"\n",
      "\n",
      "Topic: 13 \n",
      "Word: 0.010*\"feder\" + 0.010*\"save\" + 0.010*\"bank\" + 0.010*\"associ\" + 0.009*\"file\" + 0.008*\"insur\" + 0.008*\"nation\" + 0.007*\"depositori\" + 0.007*\"institut\" + 0.007*\"report\"\n",
      "\n",
      "Topic: 14 \n",
      "Word: 0.009*\"feder\" + 0.009*\"author\" + 0.008*\"bank\" + 0.008*\"associ\" + 0.007*\"save\" + 0.007*\"reserv\" + 0.007*\"capit\" + 0.007*\"board\" + 0.007*\"nation\" + 0.006*\"ratio\"\n",
      "\n",
      "Topic: 15 \n",
      "Word: 0.009*\"bank\" + 0.009*\"exposur\" + 0.008*\"credit\" + 0.008*\"save\" + 0.008*\"associ\" + 0.007*\"feder\" + 0.007*\"institut\" + 0.007*\"retail\" + 0.007*\"transact\" + 0.007*\"nation\"\n",
      "\n",
      "Topic: 16 \n",
      "Word: 0.009*\"bank\" + 0.009*\"save\" + 0.009*\"associ\" + 0.008*\"mean\" + 0.008*\"loan\" + 0.007*\"feder\" + 0.007*\"nation\" + 0.007*\"servic\" + 0.007*\"contract\" + 0.006*\"clear\"\n",
      "\n",
      "Topic: 17 \n",
      "Word: 0.013*\"compani\" + 0.012*\"risk\" + 0.011*\"exposur\" + 0.011*\"swap\" + 0.011*\"institut\" + 0.009*\"board\" + 0.008*\"regul\" + 0.007*\"securit\" + 0.007*\"base\" + 0.007*\"model\"\n",
      "\n",
      "Topic: 18 \n",
      "Word: 0.011*\"bank\" + 0.010*\"loan\" + 0.010*\"save\" + 0.010*\"associ\" + 0.010*\"nation\" + 0.009*\"risk\" + 0.009*\"capit\" + 0.008*\"feder\" + 0.007*\"asset\" + 0.007*\"invest\"\n",
      "\n",
      "Topic: 19 \n",
      "Word: 0.010*\"bank\" + 0.008*\"branch\" + 0.008*\"consum\" + 0.007*\"save\" + 0.007*\"associ\" + 0.007*\"notic\" + 0.007*\"feder\" + 0.007*\"nation\" + 0.006*\"transfer\" + 0.006*\"capit\"\n",
      "\n"
     ]
    }
   ],
   "source": [
    "for idx, topic in lda_tfidf.print_topics(-1):\n",
    "    print('Topic: {} \\nWord: {}\\n'.format(idx, topic))"
   ]
  },
  {
   "cell_type": "code",
   "execution_count": null,
   "metadata": {},
   "outputs": [],
   "source": []
  },
  {
   "cell_type": "code",
   "execution_count": null,
   "metadata": {},
   "outputs": [],
   "source": []
  },
  {
   "cell_type": "code",
   "execution_count": null,
   "metadata": {},
   "outputs": [],
   "source": []
  },
  {
   "cell_type": "code",
   "execution_count": 41,
   "metadata": {},
   "outputs": [],
   "source": []
  },
  {
   "cell_type": "code",
   "execution_count": null,
   "metadata": {},
   "outputs": [],
   "source": []
  },
  {
   "cell_type": "code",
   "execution_count": null,
   "metadata": {},
   "outputs": [],
   "source": []
  },
  {
   "cell_type": "code",
   "execution_count": null,
   "metadata": {},
   "outputs": [],
   "source": []
  },
  {
   "cell_type": "code",
   "execution_count": null,
   "metadata": {},
   "outputs": [],
   "source": []
  }
 ],
 "metadata": {
  "kernelspec": {
   "display_name": "Python 3",
   "language": "python",
   "name": "python3"
  },
  "language_info": {
   "codemirror_mode": {
    "name": "ipython",
    "version": 3
   },
   "file_extension": ".py",
   "mimetype": "text/x-python",
   "name": "python",
   "nbconvert_exporter": "python",
   "pygments_lexer": "ipython3",
   "version": "3.5.2"
  }
 },
 "nbformat": 4,
 "nbformat_minor": 2
}
