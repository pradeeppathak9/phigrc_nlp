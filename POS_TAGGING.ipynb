{
 "cells": [
  {
   "cell_type": "code",
   "execution_count": 1,
   "metadata": {},
   "outputs": [
    {
     "data": {
      "text/plain": [
       "True"
      ]
     },
     "execution_count": 1,
     "metadata": {},
     "output_type": "execute_result"
    }
   ],
   "source": [
    "import pandas as pd\n",
    "import numpy as np\n",
    "import nltk\n",
    "import re\n",
    "from tqdm import tqdm\n",
    "import random\n",
    "nltk.download('punkt', quiet=True)\n",
    "nltk.download('averaged_perceptron_tagger', quiet=True)"
   ]
  },
  {
   "cell_type": "code",
   "execution_count": 2,
   "metadata": {},
   "outputs": [
    {
     "data": {
      "text/plain": [
       "(4911, 2)"
      ]
     },
     "execution_count": 2,
     "metadata": {},
     "output_type": "execute_result"
    }
   ],
   "source": [
    "corpus = pd.read_csv('corpus.csv')\n",
    "corpus = corpus.drop_duplicates()\n",
    "corpus.shape"
   ]
  },
  {
   "cell_type": "code",
   "execution_count": 3,
   "metadata": {},
   "outputs": [],
   "source": [
    "def custom_sentence_splitter(row):\n",
    "    '''\n",
    "    method to convert rows into sentences, custom cleaning has been performed\n",
    "    '''\n",
    "    pattern = r'(?:[A-Za-z]\\.)+'\n",
    "    sentences = []\n",
    "    sen = ''\n",
    "    for w in row.split(\" \"):\n",
    "        if w.endswith(\".\"):\n",
    "            if len(re.findall(r'(?:[A-Za-z]\\.)', w)) > 1: \n",
    "                # ignoring handling acronym\n",
    "                pass          \n",
    "            elif len(re.findall(r'(?:[0-9]\\.)', w)) == 1:\n",
    "                # ignoring numbers\n",
    "                pass\n",
    "            else:\n",
    "                sen += \" \" + w\n",
    "                sen = sen.strip(\".\").strip(\" \")\n",
    "                if len(sen):\n",
    "                    sentences.append(sen)\n",
    "                sen = w = \"\"\n",
    "        elif \".\" in w:\n",
    "            pattern = r'(?:([A-Za-z0-9()\\.]{1,})\\.([A-Za-z]{2,}))'\n",
    "            if len(re.findall(pattern=pattern, string=w)):\n",
    "                sp = w.split(\".\")\n",
    "                sen += \" \" + \".\".join(sp[:-1])\n",
    "                sen = sen.strip(\".\").strip(\" \")\n",
    "                if len(sen): sentences.append(sen)\n",
    "                sen = \"\"\n",
    "                w = sp[-1]\n",
    "        sen += \" \" + w\n",
    "      \n",
    "    sen = sen.strip(\".\").strip(\" \")\n",
    "    if len(sen):\n",
    "        sentences.append(sen.strip(\".\").strip(\" \"))\n",
    "    return sentences\n"
   ]
  },
  {
   "cell_type": "markdown",
   "metadata": {},
   "source": [
    "#### Converting rows to sentences and tagging them"
   ]
  },
  {
   "cell_type": "code",
   "execution_count": 4,
   "metadata": {
    "scrolled": true
   },
   "outputs": [
    {
     "name": "stderr",
     "output_type": "stream",
     "text": [
      "4911it [00:55, 88.77it/s] "
     ]
    },
    {
     "name": "stdout",
     "output_type": "stream",
     "text": [
      "19254\n"
     ]
    },
    {
     "name": "stderr",
     "output_type": "stream",
     "text": [
      "\n"
     ]
    }
   ],
   "source": [
    "\n",
    "pos_tagged_sentences = []\n",
    "for i, row in tqdm(corpus.iterrows()):\n",
    "    for i, sen in enumerate(custom_sentence_splitter(row['Section_Text'])):\n",
    "        tokens = nltk.word_tokenize(sen)\n",
    "        tagged_sen = nltk.pos_tag(tokens, )\n",
    "        pos_tagged_sentences.append({\n",
    "            \"Section_ID\": row[\"Section_ID\"],\n",
    "            \"Sentence_ID\": \"{}_{}\".format(row[\"Section_ID\"], i),\n",
    "            \"Sentence\": sen,\n",
    "            \"Tagged Sentence\": tagged_sen,    \n",
    "        })\n",
    "\n",
    "print(len(pos_tagged_sentences))"
   ]
  },
  {
   "cell_type": "code",
   "execution_count": null,
   "metadata": {},
   "outputs": [],
   "source": []
  },
  {
   "cell_type": "markdown",
   "metadata": {},
   "source": [
    "#### Sample Results"
   ]
  },
  {
   "cell_type": "code",
   "execution_count": 5,
   "metadata": {
    "scrolled": false
   },
   "outputs": [
    {
     "name": "stdout",
     "output_type": "stream",
     "text": [
      "Example: 0\n",
      "Raw: all general allowances of the merged or acquired company must be excluded from the national bank's or federal savings association's eligible credit reserves\n",
      "Tagged: [('all', 'DT'), ('general', 'JJ'), ('allowances', 'NNS'), ('of', 'IN'), ('the', 'DT'), ('merged', 'VBN'), ('or', 'CC'), ('acquired', 'VBN'), ('company', 'NN'), ('must', 'MD'), ('be', 'VB'), ('excluded', 'VBN'), ('from', 'IN'), ('the', 'DT'), ('national', 'JJ'), ('bank', 'NN'), (\"'s\", 'POS'), ('or', 'CC'), ('federal', 'JJ'), ('savings', 'NNS'), ('association', 'NN'), (\"'s\", 'POS'), ('eligible', 'JJ'), ('credit', 'NN'), ('reserves', 'NNS')]\n",
      "\n",
      "\n",
      "Example: 1\n",
      "Raw: sponsor means, with respect to a covered fund to serve as a general partner, managing member, or trustee of a covered fund, or to serve as a commodity pool operator with respect to a covered fund as defined in (b)(1)(ii) of this section; in any manner to select or to control (or to have employees, officers, or directors, or agents who constitute) a majority of the directors, trustees, or management of a covered fund; or to share with a covered fund, for corporate, marketing, promotional, or other purposes, the same name or a variation of the same name, except as permitted under § 44.11(a)(6).trustee. (i) for purposes of paragraph (d)(9) of this section and § 44.11 of subpart c, a trustee does not include a trustee that does not exercise investment discretion with respect to a covered fund, including a trustee that is subject to the direction of an unaffiliated named fiduciary who is not a trustee pursuant to section 403(a)(1) of the employee's retirement income security act (29 u.s.c. 1103(a)(1)); or a trustee that is subject to fiduciary standards imposed under foreign law that are substantially equivalent to those described in paragraph (d)(10)(i)(a) of this section; any entity that directs a person described in paragraph (d)(10)(i) of this section, or that possesses authority and discretion to manage and control the investment decisions of a covered fund for which such person serves as trustee, shall be considered to be a trustee of such covered fund\n",
      "Tagged: [('sponsor', 'NN'), ('means', 'NNS'), (',', ','), ('with', 'IN'), ('respect', 'NN'), ('to', 'TO'), ('a', 'DT'), ('covered', 'VBN'), ('fund', 'NN'), ('to', 'TO'), ('serve', 'VB'), ('as', 'IN'), ('a', 'DT'), ('general', 'JJ'), ('partner', 'NN'), (',', ','), ('managing', 'VBG'), ('member', 'NN'), (',', ','), ('or', 'CC'), ('trustee', 'NN'), ('of', 'IN'), ('a', 'DT'), ('covered', 'JJ'), ('fund', 'NN'), (',', ','), ('or', 'CC'), ('to', 'TO'), ('serve', 'VB'), ('as', 'IN'), ('a', 'DT'), ('commodity', 'NN'), ('pool', 'NN'), ('operator', 'NN'), ('with', 'IN'), ('respect', 'NN'), ('to', 'TO'), ('a', 'DT'), ('covered', 'JJ'), ('fund', 'NN'), ('as', 'IN'), ('defined', 'VBN'), ('in', 'IN'), ('(', '('), ('b', 'NN'), (')', ')'), ('(', '('), ('1', 'CD'), (')', ')'), ('(', '('), ('ii', 'JJ'), (')', ')'), ('of', 'IN'), ('this', 'DT'), ('section', 'NN'), (';', ':'), ('in', 'IN'), ('any', 'DT'), ('manner', 'NN'), ('to', 'TO'), ('select', 'VB'), ('or', 'CC'), ('to', 'TO'), ('control', 'VB'), ('(', '('), ('or', 'CC'), ('to', 'TO'), ('have', 'VB'), ('employees', 'NNS'), (',', ','), ('officers', 'NNS'), (',', ','), ('or', 'CC'), ('directors', 'NNS'), (',', ','), ('or', 'CC'), ('agents', 'NNS'), ('who', 'WP'), ('constitute', 'VBP'), (')', ')'), ('a', 'DT'), ('majority', 'NN'), ('of', 'IN'), ('the', 'DT'), ('directors', 'NNS'), (',', ','), ('trustees', 'NNS'), (',', ','), ('or', 'CC'), ('management', 'NN'), ('of', 'IN'), ('a', 'DT'), ('covered', 'JJ'), ('fund', 'NN'), (';', ':'), ('or', 'CC'), ('to', 'TO'), ('share', 'NN'), ('with', 'IN'), ('a', 'DT'), ('covered', 'JJ'), ('fund', 'NN'), (',', ','), ('for', 'IN'), ('corporate', 'JJ'), (',', ','), ('marketing', 'NN'), (',', ','), ('promotional', 'JJ'), (',', ','), ('or', 'CC'), ('other', 'JJ'), ('purposes', 'NNS'), (',', ','), ('the', 'DT'), ('same', 'JJ'), ('name', 'NN'), ('or', 'CC'), ('a', 'DT'), ('variation', 'NN'), ('of', 'IN'), ('the', 'DT'), ('same', 'JJ'), ('name', 'NN'), (',', ','), ('except', 'IN'), ('as', 'IN'), ('permitted', 'JJ'), ('under', 'IN'), ('§', 'JJ'), ('44.11', 'CD'), ('(', '('), ('a', 'DT'), (')', ')'), ('(', '('), ('6', 'CD'), (')', ')'), ('.trustee', 'NN'), ('.', '.'), ('(', '('), ('i', 'NN'), (')', ')'), ('for', 'IN'), ('purposes', 'NNS'), ('of', 'IN'), ('paragraph', 'NN'), ('(', '('), ('d', 'NN'), (')', ')'), ('(', '('), ('9', 'CD'), (')', ')'), ('of', 'IN'), ('this', 'DT'), ('section', 'NN'), ('and', 'CC'), ('§', '$'), ('44.11', 'CD'), ('of', 'IN'), ('subpart', 'NN'), ('c', 'NN'), (',', ','), ('a', 'DT'), ('trustee', 'NN'), ('does', 'VBZ'), ('not', 'RB'), ('include', 'VB'), ('a', 'DT'), ('trustee', 'NN'), ('that', 'WDT'), ('does', 'VBZ'), ('not', 'RB'), ('exercise', 'VB'), ('investment', 'NN'), ('discretion', 'NN'), ('with', 'IN'), ('respect', 'NN'), ('to', 'TO'), ('a', 'DT'), ('covered', 'VBN'), ('fund', 'NN'), (',', ','), ('including', 'VBG'), ('a', 'DT'), ('trustee', 'NN'), ('that', 'WDT'), ('is', 'VBZ'), ('subject', 'JJ'), ('to', 'TO'), ('the', 'DT'), ('direction', 'NN'), ('of', 'IN'), ('an', 'DT'), ('unaffiliated', 'JJ'), ('named', 'VBN'), ('fiduciary', 'NN'), ('who', 'WP'), ('is', 'VBZ'), ('not', 'RB'), ('a', 'DT'), ('trustee', 'NN'), ('pursuant', 'NN'), ('to', 'TO'), ('section', 'NN'), ('403', 'CD'), ('(', '('), ('a', 'DT'), (')', ')'), ('(', '('), ('1', 'CD'), (')', ')'), ('of', 'IN'), ('the', 'DT'), ('employee', 'NN'), (\"'s\", 'POS'), ('retirement', 'NN'), ('income', 'NN'), ('security', 'NN'), ('act', 'NN'), ('(', '('), ('29', 'CD'), ('u.s.c', 'NN'), ('.', '.'), ('1103', 'CD'), ('(', '('), ('a', 'DT'), (')', ')'), ('(', '('), ('1', 'CD'), (')', ')'), (')', ')'), (';', ':'), ('or', 'CC'), ('a', 'DT'), ('trustee', 'NN'), ('that', 'WDT'), ('is', 'VBZ'), ('subject', 'JJ'), ('to', 'TO'), ('fiduciary', 'JJ'), ('standards', 'NNS'), ('imposed', 'VBN'), ('under', 'IN'), ('foreign', 'JJ'), ('law', 'NN'), ('that', 'WDT'), ('are', 'VBP'), ('substantially', 'RB'), ('equivalent', 'JJ'), ('to', 'TO'), ('those', 'DT'), ('described', 'VBN'), ('in', 'IN'), ('paragraph', 'NN'), ('(', '('), ('d', 'NN'), (')', ')'), ('(', '('), ('10', 'CD'), (')', ')'), ('(', '('), ('i', 'NN'), (')', ')'), ('(', '('), ('a', 'DT'), (')', ')'), ('of', 'IN'), ('this', 'DT'), ('section', 'NN'), (';', ':'), ('any', 'DT'), ('entity', 'NN'), ('that', 'WDT'), ('directs', 'VBZ'), ('a', 'DT'), ('person', 'NN'), ('described', 'VBN'), ('in', 'IN'), ('paragraph', 'NN'), ('(', '('), ('d', 'NN'), (')', ')'), ('(', '('), ('10', 'CD'), (')', ')'), ('(', '('), ('i', 'JJ'), (')', ')'), ('of', 'IN'), ('this', 'DT'), ('section', 'NN'), (',', ','), ('or', 'CC'), ('that', 'IN'), ('possesses', 'VBZ'), ('authority', 'NN'), ('and', 'CC'), ('discretion', 'NN'), ('to', 'TO'), ('manage', 'VB'), ('and', 'CC'), ('control', 'VB'), ('the', 'DT'), ('investment', 'NN'), ('decisions', 'NNS'), ('of', 'IN'), ('a', 'DT'), ('covered', 'JJ'), ('fund', 'NN'), ('for', 'IN'), ('which', 'WDT'), ('such', 'JJ'), ('person', 'NN'), ('serves', 'NNS'), ('as', 'IN'), ('trustee', 'NN'), (',', ','), ('shall', 'MD'), ('be', 'VB'), ('considered', 'VBN'), ('to', 'TO'), ('be', 'VB'), ('a', 'DT'), ('trustee', 'NN'), ('of', 'IN'), ('such', 'JJ'), ('covered', 'VBN'), ('fund', 'NN')]\n",
      "\n",
      "\n",
      "Example: 2\n",
      "Raw: secured funding transaction has the meaning set forth in 12 cfr 249.3\n",
      "Tagged: [('secured', 'VBN'), ('funding', 'JJ'), ('transaction', 'NN'), ('has', 'VBZ'), ('the', 'DT'), ('meaning', 'NN'), ('set', 'VBN'), ('forth', 'NN'), ('in', 'IN'), ('12', 'CD'), ('cfr', 'NN'), ('249.3', 'CD')]\n",
      "\n",
      "\n",
      "Example: 3\n",
      "Raw: a notice is eligible for expedited review if all of the following requirements are met the national bank or federal savings association is “well capitalized” and “well managed” as defined in § 5.34(d) or § 5.38(d), as applicable; and the bank service company engages only in activities that are permissible for the bank service company under 12 u.s.c. 1864 and that are listed in § 5.34(e)(5)(v) or § 5.38(e)(5)(v), as applicable\n",
      "Tagged: [('a', 'DT'), ('notice', 'NN'), ('is', 'VBZ'), ('eligible', 'JJ'), ('for', 'IN'), ('expedited', 'VBN'), ('review', 'NN'), ('if', 'IN'), ('all', 'DT'), ('of', 'IN'), ('the', 'DT'), ('following', 'JJ'), ('requirements', 'NNS'), ('are', 'VBP'), ('met', 'VBN'), ('the', 'DT'), ('national', 'JJ'), ('bank', 'NN'), ('or', 'CC'), ('federal', 'JJ'), ('savings', 'NNS'), ('association', 'NN'), ('is', 'VBZ'), ('“', 'RB'), ('well', 'RB'), ('capitalized', 'VBN'), ('”', 'NN'), ('and', 'CC'), ('“', 'NNP'), ('well', 'RB'), ('managed', 'VBD'), ('”', 'NNP'), ('as', 'IN'), ('defined', 'VBN'), ('in', 'IN'), ('§', 'JJ'), ('5.34', 'CD'), ('(', '('), ('d', 'NN'), (')', ')'), ('or', 'CC'), ('§', '$'), ('5.38', 'CD'), ('(', '('), ('d', 'NN'), (')', ')'), (',', ','), ('as', 'IN'), ('applicable', 'JJ'), (';', ':'), ('and', 'CC'), ('the', 'DT'), ('bank', 'NN'), ('service', 'NN'), ('company', 'NN'), ('engages', 'VBZ'), ('only', 'RB'), ('in', 'IN'), ('activities', 'NNS'), ('that', 'WDT'), ('are', 'VBP'), ('permissible', 'JJ'), ('for', 'IN'), ('the', 'DT'), ('bank', 'NN'), ('service', 'NN'), ('company', 'NN'), ('under', 'IN'), ('12', 'CD'), ('u.s.c', 'NN'), ('.', '.'), ('1864', 'CD'), ('and', 'CC'), ('that', 'DT'), ('are', 'VBP'), ('listed', 'VBN'), ('in', 'IN'), ('§', 'JJ'), ('5.34', 'CD'), ('(', '('), ('e', 'NN'), (')', ')'), ('(', '('), ('5', 'CD'), (')', ')'), ('(', '('), ('v', 'NN'), (')', ')'), ('or', 'CC'), ('§', '$'), ('5.38', 'CD'), ('(', '('), ('e', 'NN'), (')', ')'), ('(', '('), ('5', 'CD'), (')', ')'), ('(', '('), ('v', 'NN'), (')', ')'), (',', ','), ('as', 'IN'), ('applicable', 'JJ')]\n",
      "\n",
      "\n",
      "Example: 4\n",
      "Raw: stress test means a process to assess the potential impact of scenarios on the consolidated earnings, losses, and capital of a covered institution over the planning horizon, taking into account the covered institution's current condition, risks, exposures, strategies, and activities\n",
      "Tagged: [('stress', 'JJ'), ('test', 'NN'), ('means', 'VBZ'), ('a', 'DT'), ('process', 'NN'), ('to', 'TO'), ('assess', 'VB'), ('the', 'DT'), ('potential', 'JJ'), ('impact', 'NN'), ('of', 'IN'), ('scenarios', 'NNS'), ('on', 'IN'), ('the', 'DT'), ('consolidated', 'JJ'), ('earnings', 'NNS'), (',', ','), ('losses', 'NNS'), (',', ','), ('and', 'CC'), ('capital', 'NN'), ('of', 'IN'), ('a', 'DT'), ('covered', 'JJ'), ('institution', 'NN'), ('over', 'IN'), ('the', 'DT'), ('planning', 'NN'), ('horizon', 'NN'), (',', ','), ('taking', 'VBG'), ('into', 'IN'), ('account', 'NN'), ('the', 'DT'), ('covered', 'JJ'), ('institution', 'NN'), (\"'s\", 'POS'), ('current', 'JJ'), ('condition', 'NN'), (',', ','), ('risks', 'NNS'), (',', ','), ('exposures', 'NNS'), (',', ','), ('strategies', 'NNS'), (',', ','), ('and', 'CC'), ('activities', 'NNS')]\n",
      "\n",
      "\n",
      "Example: 5\n",
      "Raw: you are not required to adjust the liquidation account and sub-account balances at each annual closing date if you maintain sufficient records to make the computations if a liquidation subsequently occurs\n",
      "Tagged: [('you', 'PRP'), ('are', 'VBP'), ('not', 'RB'), ('required', 'VBN'), ('to', 'TO'), ('adjust', 'VB'), ('the', 'DT'), ('liquidation', 'NN'), ('account', 'NN'), ('and', 'CC'), ('sub-account', 'NN'), ('balances', 'NNS'), ('at', 'IN'), ('each', 'DT'), ('annual', 'JJ'), ('closing', 'NN'), ('date', 'NN'), ('if', 'IN'), ('you', 'PRP'), ('maintain', 'VBP'), ('sufficient', 'JJ'), ('records', 'NNS'), ('to', 'TO'), ('make', 'VB'), ('the', 'DT'), ('computations', 'NNS'), ('if', 'IN'), ('a', 'DT'), ('liquidation', 'NN'), ('subsequently', 'RB'), ('occurs', 'VBZ')]\n",
      "\n",
      "\n",
      "Example: 6\n",
      "Raw: loan originated by a federal savings association or other lender means any loan for which the lender makes the first advance of credit thereunder,provided, that such lender then held a beneficial interest in the loan, whether as to the whole loan or a portion thereof, and whether or not the loan is later held by or transferred to another lender\n",
      "Tagged: [('loan', 'NN'), ('originated', 'VBN'), ('by', 'IN'), ('a', 'DT'), ('federal', 'JJ'), ('savings', 'NNS'), ('association', 'NN'), ('or', 'CC'), ('other', 'JJ'), ('lender', 'NN'), ('means', 'VBZ'), ('any', 'DT'), ('loan', 'NN'), ('for', 'IN'), ('which', 'WDT'), ('the', 'DT'), ('lender', 'NN'), ('makes', 'VBZ'), ('the', 'DT'), ('first', 'JJ'), ('advance', 'NN'), ('of', 'IN'), ('credit', 'NN'), ('thereunder', 'NN'), (',', ','), ('provided', 'VBN'), (',', ','), ('that', 'IN'), ('such', 'JJ'), ('lender', 'NN'), ('then', 'RB'), ('held', 'VBD'), ('a', 'DT'), ('beneficial', 'JJ'), ('interest', 'NN'), ('in', 'IN'), ('the', 'DT'), ('loan', 'NN'), (',', ','), ('whether', 'IN'), ('as', 'IN'), ('to', 'TO'), ('the', 'DT'), ('whole', 'JJ'), ('loan', 'NN'), ('or', 'CC'), ('a', 'DT'), ('portion', 'NN'), ('thereof', 'NN'), (',', ','), ('and', 'CC'), ('whether', 'IN'), ('or', 'CC'), ('not', 'RB'), ('the', 'DT'), ('loan', 'NN'), ('is', 'VBZ'), ('later', 'RB'), ('held', 'VBN'), ('by', 'IN'), ('or', 'CC'), ('transferred', 'VBN'), ('to', 'TO'), ('another', 'DT'), ('lender', 'NN')]\n",
      "\n",
      "\n",
      "Example: 7\n",
      "Raw: in determining whether to grant the request of a foreign bank to change its home state, the board shall consider whether the proposed change is consistent with competitive equity between foreign and domestic banks\n",
      "Tagged: [('in', 'IN'), ('determining', 'VBG'), ('whether', 'IN'), ('to', 'TO'), ('grant', 'VB'), ('the', 'DT'), ('request', 'NN'), ('of', 'IN'), ('a', 'DT'), ('foreign', 'JJ'), ('bank', 'NN'), ('to', 'TO'), ('change', 'VB'), ('its', 'PRP$'), ('home', 'NN'), ('state', 'NN'), (',', ','), ('the', 'DT'), ('board', 'NN'), ('shall', 'MD'), ('consider', 'VB'), ('whether', 'IN'), ('the', 'DT'), ('proposed', 'VBN'), ('change', 'NN'), ('is', 'VBZ'), ('consistent', 'JJ'), ('with', 'IN'), ('competitive', 'JJ'), ('equity', 'NN'), ('between', 'IN'), ('foreign', 'JJ'), ('and', 'CC'), ('domestic', 'JJ'), ('banks', 'NNS')]\n",
      "\n",
      "\n",
      "Example: 8\n",
      "Raw: for purposes of this subpart c, the termsavings association means a savings association as defined in section 3 of the federal deposit insurance act (fdi act), the deposits of which are insured by the federal deposit insurance corporation\n",
      "Tagged: [('for', 'IN'), ('purposes', 'NNS'), ('of', 'IN'), ('this', 'DT'), ('subpart', 'NN'), ('c', 'NN'), (',', ','), ('the', 'DT'), ('termsavings', 'NNS'), ('association', 'NN'), ('means', 'VBZ'), ('a', 'DT'), ('savings', 'NNS'), ('association', 'NN'), ('as', 'IN'), ('defined', 'VBN'), ('in', 'IN'), ('section', 'NN'), ('3', 'CD'), ('of', 'IN'), ('the', 'DT'), ('federal', 'JJ'), ('deposit', 'NN'), ('insurance', 'NN'), ('act', 'NN'), ('(', '('), ('fdi', 'JJ'), ('act', 'NN'), (')', ')'), (',', ','), ('the', 'DT'), ('deposits', 'NNS'), ('of', 'IN'), ('which', 'WDT'), ('are', 'VBP'), ('insured', 'VBN'), ('by', 'IN'), ('the', 'DT'), ('federal', 'JJ'), ('deposit', 'NN'), ('insurance', 'NN'), ('corporation', 'NN')]\n",
      "\n",
      "\n",
      "Example: 9\n",
      "Raw: no hearing need be granted on the petition for reconsideration\n",
      "Tagged: [('no', 'DT'), ('hearing', 'NN'), ('need', 'NN'), ('be', 'VB'), ('granted', 'VBN'), ('on', 'IN'), ('the', 'DT'), ('petition', 'NN'), ('for', 'IN'), ('reconsideration', 'NN')]\n",
      "\n",
      "\n"
     ]
    }
   ],
   "source": [
    "for i in range(10):\n",
    "    tagged_sentence = random.choice(pos_tagged_sentences)\n",
    "    print(\"Example: {}\".format(i))\n",
    "    print(\"Raw: {}\".format(tagged_sentence[\"Sentence\"]))\n",
    "    print(\"Tagged: {}\".format(tagged_sentence[\"Tagged Sentence\"]))\n",
    "    print(\"\\n\")"
   ]
  },
  {
   "cell_type": "code",
   "execution_count": null,
   "metadata": {},
   "outputs": [],
   "source": []
  },
  {
   "cell_type": "code",
   "execution_count": null,
   "metadata": {},
   "outputs": [],
   "source": []
  }
 ],
 "metadata": {
  "kernelspec": {
   "display_name": "Python 3",
   "language": "python",
   "name": "python3"
  },
  "language_info": {
   "codemirror_mode": {
    "name": "ipython",
    "version": 3
   },
   "file_extension": ".py",
   "mimetype": "text/x-python",
   "name": "python",
   "nbconvert_exporter": "python",
   "pygments_lexer": "ipython3",
   "version": "3.5.2"
  }
 },
 "nbformat": 4,
 "nbformat_minor": 2
}
