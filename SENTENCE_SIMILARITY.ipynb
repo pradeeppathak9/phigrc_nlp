{
 "cells": [
  {
   "cell_type": "code",
   "execution_count": 1,
   "metadata": {},
   "outputs": [
    {
     "data": {
      "text/plain": [
       "True"
      ]
     },
     "execution_count": 1,
     "metadata": {},
     "output_type": "execute_result"
    }
   ],
   "source": [
    "import pandas as pd\n",
    "import numpy as np\n",
    "\n",
    "from tqdm import tqdm\n",
    "import random\n",
    "from gensim.models.doc2vec import Doc2Vec, TaggedDocument\n",
    "from gensim.test.utils import get_tmpfile\n",
    "\n",
    "import seaborn as sns\n",
    "from matplotlib import pyplot\n",
    "\n",
    "import nltk\n",
    "from nltk.corpus import stopwords\n",
    "from nltk.stem import PorterStemmer\n",
    "import re\n",
    "\n",
    "nltk.download(\"stopwords\", quiet=True)"
   ]
  },
  {
   "cell_type": "code",
   "execution_count": 2,
   "metadata": {},
   "outputs": [
    {
     "data": {
      "text/plain": [
       "(4911, 2)"
      ]
     },
     "execution_count": 2,
     "metadata": {},
     "output_type": "execute_result"
    }
   ],
   "source": [
    "corpus = pd.read_csv('corpus.csv')\n",
    "corpus = corpus.drop_duplicates()\n",
    "corpus.shape"
   ]
  },
  {
   "cell_type": "code",
   "execution_count": 3,
   "metadata": {},
   "outputs": [],
   "source": [
    "def custom_sentence_splitter(row):\n",
    "    '''\n",
    "    method to convert rows into sentences, custom cleaning has been performed\n",
    "    '''\n",
    "    pattern = r'(?:[A-Za-z]\\.)+'\n",
    "    sentences = []\n",
    "    sen = ''\n",
    "    for w in row.split(\" \"):\n",
    "        if w.endswith(\".\"):\n",
    "            if len(re.findall(r'(?:[A-Za-z]\\.)', w)) > 1: \n",
    "                # ignoring handling acronym\n",
    "                pass          \n",
    "            elif len(re.findall(r'(?:[0-9]\\.)', w)) == 1:\n",
    "                # ignoring numbers\n",
    "                pass\n",
    "            else:\n",
    "                sen += \" \" + w\n",
    "                sen = sen.strip(\".\").strip(\" \")\n",
    "                if len(sen):\n",
    "                    sentences.append(sen)\n",
    "                sen = w = \"\"\n",
    "        elif \".\" in w:\n",
    "            pattern = r'(?:([A-Za-z0-9()\\.]{1,})\\.([A-Za-z]{2,}))'\n",
    "            if len(re.findall(pattern=pattern, string=w)):\n",
    "                sp = w.split(\".\")\n",
    "                sen += \" \" + \".\".join(sp[:-1])\n",
    "                sen = sen.strip(\".\").strip(\" \")\n",
    "                if len(sen): sentences.append(sen)\n",
    "                sen = \"\"\n",
    "                w = sp[-1]\n",
    "        sen += \" \" + w\n",
    "      \n",
    "    sen = sen.strip(\".\").strip(\" \")\n",
    "    if len(sen):\n",
    "        sentences.append(sen.strip(\".\").strip(\" \"))\n",
    "    return sentences\n"
   ]
  },
  {
   "cell_type": "markdown",
   "metadata": {},
   "source": [
    "#### Converting rows to sentences"
   ]
  },
  {
   "cell_type": "code",
   "execution_count": 4,
   "metadata": {
    "scrolled": true
   },
   "outputs": [
    {
     "name": "stderr",
     "output_type": "stream",
     "text": [
      "4911it [00:02, 2092.27it/s]"
     ]
    },
    {
     "name": "stdout",
     "output_type": "stream",
     "text": [
      "19254\n"
     ]
    },
    {
     "name": "stderr",
     "output_type": "stream",
     "text": [
      "\n"
     ]
    }
   ],
   "source": [
    "\n",
    "pos_tagged_sentences = []\n",
    "for i, row in tqdm(corpus.iterrows()):\n",
    "    for i, sen in enumerate(custom_sentence_splitter(row['Section_Text'])):\n",
    "        pos_tagged_sentences.append({\n",
    "            \"Section_ID\": row[\"Section_ID\"],\n",
    "            \"Sentence_ID\": \"{}_{}\".format(row[\"Section_ID\"], i),\n",
    "            \"Sentence\": sen, \n",
    "        })\n",
    "\n",
    "print(len(pos_tagged_sentences))"
   ]
  },
  {
   "cell_type": "code",
   "execution_count": null,
   "metadata": {},
   "outputs": [],
   "source": []
  },
  {
   "cell_type": "code",
   "execution_count": 5,
   "metadata": {},
   "outputs": [
    {
     "data": {
      "text/plain": [
       "(19254, 3)"
      ]
     },
     "execution_count": 5,
     "metadata": {},
     "output_type": "execute_result"
    }
   ],
   "source": [
    "df_ = pd.DataFrame.from_records(pos_tagged_sentences)\n",
    "df_.shape"
   ]
  },
  {
   "cell_type": "code",
   "execution_count": 6,
   "metadata": {},
   "outputs": [
    {
     "data": {
      "text/html": [
       "<div>\n",
       "<style scoped>\n",
       "    .dataframe tbody tr th:only-of-type {\n",
       "        vertical-align: middle;\n",
       "    }\n",
       "\n",
       "    .dataframe tbody tr th {\n",
       "        vertical-align: top;\n",
       "    }\n",
       "\n",
       "    .dataframe thead th {\n",
       "        text-align: right;\n",
       "    }\n",
       "</style>\n",
       "<table border=\"1\" class=\"dataframe\">\n",
       "  <thead>\n",
       "    <tr style=\"text-align: right;\">\n",
       "      <th></th>\n",
       "      <th>Section_ID</th>\n",
       "      <th>Sentence</th>\n",
       "      <th>Sentence_ID</th>\n",
       "    </tr>\n",
       "  </thead>\n",
       "  <tbody>\n",
       "    <tr>\n",
       "      <th>0</th>\n",
       "      <td>Cite-1</td>\n",
       "      <td>authority</td>\n",
       "      <td>Cite-1_0</td>\n",
       "    </tr>\n",
       "    <tr>\n",
       "      <th>1</th>\n",
       "      <td>Cite-1</td>\n",
       "      <td>this part is issued pursuant to 12 u.s.c. 1, 1...</td>\n",
       "      <td>Cite-1_1</td>\n",
       "    </tr>\n",
       "    <tr>\n",
       "      <th>2</th>\n",
       "      <td>Cite-2</td>\n",
       "      <td>purpose this part prescribes standards under w...</td>\n",
       "      <td>Cite-2_0</td>\n",
       "    </tr>\n",
       "    <tr>\n",
       "      <th>3</th>\n",
       "      <td>Cite-3</td>\n",
       "      <td>scope</td>\n",
       "      <td>Cite-3_0</td>\n",
       "    </tr>\n",
       "    <tr>\n",
       "      <th>4</th>\n",
       "      <td>Cite-3</td>\n",
       "      <td>the standards set forth in this part apply to ...</td>\n",
       "      <td>Cite-3_1</td>\n",
       "    </tr>\n",
       "  </tbody>\n",
       "</table>\n",
       "</div>"
      ],
      "text/plain": [
       "  Section_ID                                           Sentence Sentence_ID\n",
       "0     Cite-1                                          authority    Cite-1_0\n",
       "1     Cite-1  this part is issued pursuant to 12 u.s.c. 1, 1...    Cite-1_1\n",
       "2     Cite-2  purpose this part prescribes standards under w...    Cite-2_0\n",
       "3     Cite-3                                              scope    Cite-3_0\n",
       "4     Cite-3  the standards set forth in this part apply to ...    Cite-3_1"
      ]
     },
     "execution_count": 6,
     "metadata": {},
     "output_type": "execute_result"
    }
   ],
   "source": [
    "df_.head()"
   ]
  },
  {
   "cell_type": "code",
   "execution_count": null,
   "metadata": {},
   "outputs": [],
   "source": []
  },
  {
   "cell_type": "code",
   "execution_count": null,
   "metadata": {},
   "outputs": [],
   "source": []
  },
  {
   "cell_type": "markdown",
   "metadata": {},
   "source": [
    "#### Cleaning Sentences, Removing special characters and Stop Words "
   ]
  },
  {
   "cell_type": "code",
   "execution_count": 7,
   "metadata": {},
   "outputs": [],
   "source": [
    "REMOVE_STOPWORDS = True\n",
    "stops = set(stopwords.words(\"english\"))\n",
    "\n",
    "def clean_text(text):\n",
    "    text =  re.sub(r\"[^A-Za-z0-9.]\", \" \", text)    \n",
    "    \n",
    "    if REMOVE_STOPWORDS:\n",
    "        words = [w.strip(\" \").strip(\".\") for w in text.lower().split(\" \") if not w in stops]\n",
    "        return \" \".join(words)\n",
    "    else:\n",
    "        return text\n"
   ]
  },
  {
   "cell_type": "code",
   "execution_count": 8,
   "metadata": {},
   "outputs": [
    {
     "name": "stdout",
     "output_type": "stream",
     "text": [
      "electronic media includes any means for transmitting messages electronically between a covered person and a consumer in a format that allows visual text to be displayed on equipment, for example, a personal computer monitor\n",
      "\n",
      "\n",
      "electronic media includes means transmitting messages electronically covered person consumer format allows visual text displayed equipment  example  personal computer monitor\n"
     ]
    }
   ],
   "source": [
    "index = 1000\n",
    "print(df_.Sentence.iloc[index])\n",
    "print(\"\\n\")\n",
    "print(clean_text(df_.Sentence.iloc[index]))"
   ]
  },
  {
   "cell_type": "code",
   "execution_count": null,
   "metadata": {},
   "outputs": [],
   "source": []
  },
  {
   "cell_type": "code",
   "execution_count": 9,
   "metadata": {},
   "outputs": [
    {
     "data": {
      "text/html": [
       "<div>\n",
       "<style scoped>\n",
       "    .dataframe tbody tr th:only-of-type {\n",
       "        vertical-align: middle;\n",
       "    }\n",
       "\n",
       "    .dataframe tbody tr th {\n",
       "        vertical-align: top;\n",
       "    }\n",
       "\n",
       "    .dataframe thead th {\n",
       "        text-align: right;\n",
       "    }\n",
       "</style>\n",
       "<table border=\"1\" class=\"dataframe\">\n",
       "  <thead>\n",
       "    <tr style=\"text-align: right;\">\n",
       "      <th></th>\n",
       "      <th>Section_ID</th>\n",
       "      <th>Sentence</th>\n",
       "      <th>Sentence_ID</th>\n",
       "      <th>clean_sentence</th>\n",
       "    </tr>\n",
       "  </thead>\n",
       "  <tbody>\n",
       "    <tr>\n",
       "      <th>0</th>\n",
       "      <td>Cite-1</td>\n",
       "      <td>authority</td>\n",
       "      <td>Cite-1_0</td>\n",
       "      <td>authority</td>\n",
       "    </tr>\n",
       "    <tr>\n",
       "      <th>1</th>\n",
       "      <td>Cite-1</td>\n",
       "      <td>this part is issued pursuant to 12 u.s.c. 1, 1...</td>\n",
       "      <td>Cite-1_1</td>\n",
       "      <td>part issued pursuant 12 u.s.c 1  12 u.s.c 24  ...</td>\n",
       "    </tr>\n",
       "    <tr>\n",
       "      <th>2</th>\n",
       "      <td>Cite-2</td>\n",
       "      <td>purpose this part prescribes standards under w...</td>\n",
       "      <td>Cite-2_0</td>\n",
       "      <td>purpose part prescribes standards national ban...</td>\n",
       "    </tr>\n",
       "    <tr>\n",
       "      <th>3</th>\n",
       "      <td>Cite-3</td>\n",
       "      <td>scope</td>\n",
       "      <td>Cite-3_0</td>\n",
       "      <td>scope</td>\n",
       "    </tr>\n",
       "    <tr>\n",
       "      <th>4</th>\n",
       "      <td>Cite-3</td>\n",
       "      <td>the standards set forth in this part apply to ...</td>\n",
       "      <td>Cite-3_1</td>\n",
       "      <td>standards set forth part apply national banks ...</td>\n",
       "    </tr>\n",
       "  </tbody>\n",
       "</table>\n",
       "</div>"
      ],
      "text/plain": [
       "  Section_ID                                           Sentence Sentence_ID  \\\n",
       "0     Cite-1                                          authority    Cite-1_0   \n",
       "1     Cite-1  this part is issued pursuant to 12 u.s.c. 1, 1...    Cite-1_1   \n",
       "2     Cite-2  purpose this part prescribes standards under w...    Cite-2_0   \n",
       "3     Cite-3                                              scope    Cite-3_0   \n",
       "4     Cite-3  the standards set forth in this part apply to ...    Cite-3_1   \n",
       "\n",
       "                                      clean_sentence  \n",
       "0                                          authority  \n",
       "1  part issued pursuant 12 u.s.c 1  12 u.s.c 24  ...  \n",
       "2  purpose part prescribes standards national ban...  \n",
       "3                                              scope  \n",
       "4  standards set forth part apply national banks ...  "
      ]
     },
     "execution_count": 9,
     "metadata": {},
     "output_type": "execute_result"
    }
   ],
   "source": [
    "df_['clean_sentence'] = df_.Sentence.apply(clean_text)\n",
    "df_.head()    "
   ]
  },
  {
   "cell_type": "code",
   "execution_count": null,
   "metadata": {},
   "outputs": [],
   "source": []
  },
  {
   "cell_type": "code",
   "execution_count": null,
   "metadata": {},
   "outputs": [],
   "source": []
  },
  {
   "cell_type": "code",
   "execution_count": null,
   "metadata": {},
   "outputs": [],
   "source": []
  },
  {
   "cell_type": "markdown",
   "metadata": {},
   "source": [
    "#### Building Doc2Vec Model"
   ]
  },
  {
   "cell_type": "code",
   "execution_count": 10,
   "metadata": {},
   "outputs": [],
   "source": [
    "documents = [TaggedDocument(doc.split(), [i]) for i, doc in enumerate(df_.clean_sentence)]"
   ]
  },
  {
   "cell_type": "code",
   "execution_count": 11,
   "metadata": {},
   "outputs": [
    {
     "data": {
      "text/plain": [
       "TaggedDocument(words=['electronic', 'media', 'includes', 'means', 'transmitting', 'messages', 'electronically', 'covered', 'person', 'consumer', 'format', 'allows', 'visual', 'text', 'displayed', 'equipment', 'example', 'personal', 'computer', 'monitor'], tags=[1000])"
      ]
     },
     "execution_count": 11,
     "metadata": {},
     "output_type": "execute_result"
    }
   ],
   "source": [
    "documents[1000]"
   ]
  },
  {
   "cell_type": "code",
   "execution_count": 12,
   "metadata": {},
   "outputs": [],
   "source": [
    "model = Doc2Vec(min_count=1, window=5, vector_size=150, epochs=50, workers=16)\n",
    "model.build_vocab(documents)"
   ]
  },
  {
   "cell_type": "code",
   "execution_count": 13,
   "metadata": {},
   "outputs": [],
   "source": [
    "model.train(documents, total_examples=model.corpus_count, epochs=model.epochs)"
   ]
  },
  {
   "cell_type": "code",
   "execution_count": null,
   "metadata": {},
   "outputs": [],
   "source": []
  },
  {
   "cell_type": "code",
   "execution_count": 14,
   "metadata": {},
   "outputs": [
    {
     "data": {
      "text/plain": [
       "[('statute', 0.6516011953353882),\n",
       " ('laws', 0.537441611289978),\n",
       " ('expedient', 0.5153548717498779),\n",
       " ('inspected', 0.5084964036941528),\n",
       " ('authorities', 0.48979926109313965),\n",
       " ('adjudications', 0.4893532395362854),\n",
       " ('unexcused', 0.47509637475013733),\n",
       " ('inrepresentational', 0.4582762122154236),\n",
       " ('constitution', 0.45680633187294006),\n",
       " ('stayed', 0.4521963894367218)]"
      ]
     },
     "execution_count": 14,
     "metadata": {},
     "output_type": "execute_result"
    }
   ],
   "source": [
    "model.wv.most_similar(\"law\")"
   ]
  },
  {
   "cell_type": "code",
   "execution_count": null,
   "metadata": {},
   "outputs": [],
   "source": []
  },
  {
   "cell_type": "code",
   "execution_count": 15,
   "metadata": {},
   "outputs": [
    {
     "data": {
      "text/plain": [
       "0.07586824"
      ]
     },
     "execution_count": 15,
     "metadata": {},
     "output_type": "execute_result"
    }
   ],
   "source": [
    "model.wv.n_similarity(df_.clean_sentence[100].split(), df_.clean_sentence[200].split())"
   ]
  },
  {
   "cell_type": "code",
   "execution_count": null,
   "metadata": {},
   "outputs": [],
   "source": []
  },
  {
   "cell_type": "code",
   "execution_count": null,
   "metadata": {},
   "outputs": [],
   "source": [
    "\n"
   ]
  },
  {
   "cell_type": "markdown",
   "metadata": {},
   "source": [
    "#### Plotting similarities between random 25 senences"
   ]
  },
  {
   "cell_type": "code",
   "execution_count": 16,
   "metadata": {},
   "outputs": [],
   "source": [
    "sample = df_.clean_sentence.sample(25).reset_index(drop=True)"
   ]
  },
  {
   "cell_type": "code",
   "execution_count": 17,
   "metadata": {},
   "outputs": [],
   "source": [
    "similarity_scores = np.zeros((25,25))\n",
    "for i, sen1 in enumerate(sample):\n",
    "    for j, sen2 in enumerate(sample): \n",
    "        sim = model.wv.n_similarity(sen1.split(), sen2.split())    \n",
    "        similarity_scores[i][j] = sim"
   ]
  },
  {
   "cell_type": "code",
   "execution_count": 18,
   "metadata": {},
   "outputs": [
    {
     "data": {
      "text/plain": [
       "<matplotlib.axes._subplots.AxesSubplot at 0x7f708cc42d30>"
      ]
     },
     "execution_count": 18,
     "metadata": {},
     "output_type": "execute_result"
    },
    {
     "data": {
      "image/png": "[encoded data removed]",
      "text/plain": [
       "<Figure size 1080x864 with 2 Axes>"
      ]
     },
     "metadata": {
      "needs_background": "light"
     },
     "output_type": "display_data"
    }
   ],
   "source": [
    "fig, ax = pyplot.subplots(figsize=(15,12))\n",
    "sns.heatmap(ax=ax, data=similarity_scores)"
   ]
  },
  {
   "cell_type": "code",
   "execution_count": null,
   "metadata": {},
   "outputs": [],
   "source": []
  },
  {
   "cell_type": "code",
   "execution_count": null,
   "metadata": {},
   "outputs": [],
   "source": []
  },
  {
   "cell_type": "code",
   "execution_count": null,
   "metadata": {},
   "outputs": [],
   "source": []
  },
  {
   "cell_type": "code",
   "execution_count": null,
   "metadata": {},
   "outputs": [],
   "source": []
  }
 ],
 "metadata": {
  "kernelspec": {
   "display_name": "Python 3",
   "language": "python",
   "name": "python3"
  },
  "language_info": {
   "codemirror_mode": {
    "name": "ipython",
    "version": 3
   },
   "file_extension": ".py",
   "mimetype": "text/x-python",
   "name": "python",
   "nbconvert_exporter": "python",
   "pygments_lexer": "ipython3",
   "version": "3.5.2"
  }
 },
 "nbformat": 4,
 "nbformat_minor": 2
}
